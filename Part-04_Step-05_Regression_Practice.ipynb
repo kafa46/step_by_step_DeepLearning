{
 "cells": [
  {
   "cell_type": "markdown",
   "metadata": {},
   "source": [
    "# 차근차근 딥러닝 Part 04. 딥러닝 회귀 - Step 05. 딥러닝 회귀 실습"
   ]
  },
  {
   "cell_type": "markdown",
   "metadata": {},
   "source": [
    "## 1. Data 로딩"
   ]
  },
  {
   "cell_type": "code",
   "execution_count": 1,
   "metadata": {},
   "outputs": [],
   "source": [
    "from sklearn.datasets import load_boston\n",
    "boston_house = load_boston()"
   ]
  },
  {
   "cell_type": "markdown",
   "metadata": {},
   "source": [
    "## 2. 전처리\n",
    "- pandas를 이용하여 데이터를 로딩하고, 설명변수와 타겟변수를 합치기\n",
    "- StandardScaler를 이용하여 정규화 해주기(이때 타켓 변수는 제외)"
   ]
  },
  {
   "cell_type": "code",
   "execution_count": 2,
   "metadata": {},
   "outputs": [
    {
     "data": {
      "text/html": [
       "<div>\n",
       "<style scoped>\n",
       "    .dataframe tbody tr th:only-of-type {\n",
       "        vertical-align: middle;\n",
       "    }\n",
       "\n",
       "    .dataframe tbody tr th {\n",
       "        vertical-align: top;\n",
       "    }\n",
       "\n",
       "    .dataframe thead th {\n",
       "        text-align: right;\n",
       "    }\n",
       "</style>\n",
       "<table border=\"1\" class=\"dataframe\">\n",
       "  <thead>\n",
       "    <tr style=\"text-align: right;\">\n",
       "      <th></th>\n",
       "      <th>CRIM</th>\n",
       "      <th>ZN</th>\n",
       "      <th>INDUS</th>\n",
       "      <th>CHAS</th>\n",
       "      <th>NOX</th>\n",
       "      <th>RM</th>\n",
       "      <th>AGE</th>\n",
       "      <th>DIS</th>\n",
       "      <th>RAD</th>\n",
       "      <th>TAX</th>\n",
       "      <th>PTRATIO</th>\n",
       "      <th>B</th>\n",
       "      <th>LSTAT</th>\n",
       "      <th>TARGET</th>\n",
       "    </tr>\n",
       "  </thead>\n",
       "  <tbody>\n",
       "    <tr>\n",
       "      <th>0</th>\n",
       "      <td>-0.419782</td>\n",
       "      <td>0.284830</td>\n",
       "      <td>-1.287909</td>\n",
       "      <td>-0.272599</td>\n",
       "      <td>-0.144217</td>\n",
       "      <td>0.413672</td>\n",
       "      <td>-0.120013</td>\n",
       "      <td>0.140214</td>\n",
       "      <td>-0.982843</td>\n",
       "      <td>-0.666608</td>\n",
       "      <td>-1.459000</td>\n",
       "      <td>0.441052</td>\n",
       "      <td>-1.075562</td>\n",
       "      <td>24.0</td>\n",
       "    </tr>\n",
       "    <tr>\n",
       "      <th>1</th>\n",
       "      <td>-0.417339</td>\n",
       "      <td>-0.487722</td>\n",
       "      <td>-0.593381</td>\n",
       "      <td>-0.272599</td>\n",
       "      <td>-0.740262</td>\n",
       "      <td>0.194274</td>\n",
       "      <td>0.367166</td>\n",
       "      <td>0.557160</td>\n",
       "      <td>-0.867883</td>\n",
       "      <td>-0.987329</td>\n",
       "      <td>-0.303094</td>\n",
       "      <td>0.441052</td>\n",
       "      <td>-0.492439</td>\n",
       "      <td>21.6</td>\n",
       "    </tr>\n",
       "    <tr>\n",
       "      <th>2</th>\n",
       "      <td>-0.417342</td>\n",
       "      <td>-0.487722</td>\n",
       "      <td>-0.593381</td>\n",
       "      <td>-0.272599</td>\n",
       "      <td>-0.740262</td>\n",
       "      <td>1.282714</td>\n",
       "      <td>-0.265812</td>\n",
       "      <td>0.557160</td>\n",
       "      <td>-0.867883</td>\n",
       "      <td>-0.987329</td>\n",
       "      <td>-0.303094</td>\n",
       "      <td>0.396427</td>\n",
       "      <td>-1.208727</td>\n",
       "      <td>34.7</td>\n",
       "    </tr>\n",
       "    <tr>\n",
       "      <th>3</th>\n",
       "      <td>-0.416750</td>\n",
       "      <td>-0.487722</td>\n",
       "      <td>-1.306878</td>\n",
       "      <td>-0.272599</td>\n",
       "      <td>-0.835284</td>\n",
       "      <td>1.016303</td>\n",
       "      <td>-0.809889</td>\n",
       "      <td>1.077737</td>\n",
       "      <td>-0.752922</td>\n",
       "      <td>-1.106115</td>\n",
       "      <td>0.113032</td>\n",
       "      <td>0.416163</td>\n",
       "      <td>-1.361517</td>\n",
       "      <td>33.4</td>\n",
       "    </tr>\n",
       "    <tr>\n",
       "      <th>4</th>\n",
       "      <td>-0.412482</td>\n",
       "      <td>-0.487722</td>\n",
       "      <td>-1.306878</td>\n",
       "      <td>-0.272599</td>\n",
       "      <td>-0.835284</td>\n",
       "      <td>1.228577</td>\n",
       "      <td>-0.511180</td>\n",
       "      <td>1.077737</td>\n",
       "      <td>-0.752922</td>\n",
       "      <td>-1.106115</td>\n",
       "      <td>0.113032</td>\n",
       "      <td>0.441052</td>\n",
       "      <td>-1.026501</td>\n",
       "      <td>36.2</td>\n",
       "    </tr>\n",
       "    <tr>\n",
       "      <th>...</th>\n",
       "      <td>...</td>\n",
       "      <td>...</td>\n",
       "      <td>...</td>\n",
       "      <td>...</td>\n",
       "      <td>...</td>\n",
       "      <td>...</td>\n",
       "      <td>...</td>\n",
       "      <td>...</td>\n",
       "      <td>...</td>\n",
       "      <td>...</td>\n",
       "      <td>...</td>\n",
       "      <td>...</td>\n",
       "      <td>...</td>\n",
       "      <td>...</td>\n",
       "    </tr>\n",
       "    <tr>\n",
       "      <th>501</th>\n",
       "      <td>-0.413229</td>\n",
       "      <td>-0.487722</td>\n",
       "      <td>0.115738</td>\n",
       "      <td>-0.272599</td>\n",
       "      <td>0.158124</td>\n",
       "      <td>0.439316</td>\n",
       "      <td>0.018673</td>\n",
       "      <td>-0.625796</td>\n",
       "      <td>-0.982843</td>\n",
       "      <td>-0.803212</td>\n",
       "      <td>1.176466</td>\n",
       "      <td>0.387217</td>\n",
       "      <td>-0.418147</td>\n",
       "      <td>22.4</td>\n",
       "    </tr>\n",
       "    <tr>\n",
       "      <th>502</th>\n",
       "      <td>-0.415249</td>\n",
       "      <td>-0.487722</td>\n",
       "      <td>0.115738</td>\n",
       "      <td>-0.272599</td>\n",
       "      <td>0.158124</td>\n",
       "      <td>-0.234548</td>\n",
       "      <td>0.288933</td>\n",
       "      <td>-0.716639</td>\n",
       "      <td>-0.982843</td>\n",
       "      <td>-0.803212</td>\n",
       "      <td>1.176466</td>\n",
       "      <td>0.441052</td>\n",
       "      <td>-0.500850</td>\n",
       "      <td>20.6</td>\n",
       "    </tr>\n",
       "    <tr>\n",
       "      <th>503</th>\n",
       "      <td>-0.413447</td>\n",
       "      <td>-0.487722</td>\n",
       "      <td>0.115738</td>\n",
       "      <td>-0.272599</td>\n",
       "      <td>0.158124</td>\n",
       "      <td>0.984960</td>\n",
       "      <td>0.797449</td>\n",
       "      <td>-0.773684</td>\n",
       "      <td>-0.982843</td>\n",
       "      <td>-0.803212</td>\n",
       "      <td>1.176466</td>\n",
       "      <td>0.441052</td>\n",
       "      <td>-0.983048</td>\n",
       "      <td>23.9</td>\n",
       "    </tr>\n",
       "    <tr>\n",
       "      <th>504</th>\n",
       "      <td>-0.407764</td>\n",
       "      <td>-0.487722</td>\n",
       "      <td>0.115738</td>\n",
       "      <td>-0.272599</td>\n",
       "      <td>0.158124</td>\n",
       "      <td>0.725672</td>\n",
       "      <td>0.736996</td>\n",
       "      <td>-0.668437</td>\n",
       "      <td>-0.982843</td>\n",
       "      <td>-0.803212</td>\n",
       "      <td>1.176466</td>\n",
       "      <td>0.403225</td>\n",
       "      <td>-0.865302</td>\n",
       "      <td>22.0</td>\n",
       "    </tr>\n",
       "    <tr>\n",
       "      <th>505</th>\n",
       "      <td>-0.415000</td>\n",
       "      <td>-0.487722</td>\n",
       "      <td>0.115738</td>\n",
       "      <td>-0.272599</td>\n",
       "      <td>0.158124</td>\n",
       "      <td>-0.362767</td>\n",
       "      <td>0.434732</td>\n",
       "      <td>-0.613246</td>\n",
       "      <td>-0.982843</td>\n",
       "      <td>-0.803212</td>\n",
       "      <td>1.176466</td>\n",
       "      <td>0.441052</td>\n",
       "      <td>-0.669058</td>\n",
       "      <td>11.9</td>\n",
       "    </tr>\n",
       "  </tbody>\n",
       "</table>\n",
       "<p>506 rows × 14 columns</p>\n",
       "</div>"
      ],
      "text/plain": [
       "         CRIM        ZN     INDUS      CHAS       NOX        RM       AGE  \\\n",
       "0   -0.419782  0.284830 -1.287909 -0.272599 -0.144217  0.413672 -0.120013   \n",
       "1   -0.417339 -0.487722 -0.593381 -0.272599 -0.740262  0.194274  0.367166   \n",
       "2   -0.417342 -0.487722 -0.593381 -0.272599 -0.740262  1.282714 -0.265812   \n",
       "3   -0.416750 -0.487722 -1.306878 -0.272599 -0.835284  1.016303 -0.809889   \n",
       "4   -0.412482 -0.487722 -1.306878 -0.272599 -0.835284  1.228577 -0.511180   \n",
       "..        ...       ...       ...       ...       ...       ...       ...   \n",
       "501 -0.413229 -0.487722  0.115738 -0.272599  0.158124  0.439316  0.018673   \n",
       "502 -0.415249 -0.487722  0.115738 -0.272599  0.158124 -0.234548  0.288933   \n",
       "503 -0.413447 -0.487722  0.115738 -0.272599  0.158124  0.984960  0.797449   \n",
       "504 -0.407764 -0.487722  0.115738 -0.272599  0.158124  0.725672  0.736996   \n",
       "505 -0.415000 -0.487722  0.115738 -0.272599  0.158124 -0.362767  0.434732   \n",
       "\n",
       "          DIS       RAD       TAX   PTRATIO         B     LSTAT  TARGET  \n",
       "0    0.140214 -0.982843 -0.666608 -1.459000  0.441052 -1.075562    24.0  \n",
       "1    0.557160 -0.867883 -0.987329 -0.303094  0.441052 -0.492439    21.6  \n",
       "2    0.557160 -0.867883 -0.987329 -0.303094  0.396427 -1.208727    34.7  \n",
       "3    1.077737 -0.752922 -1.106115  0.113032  0.416163 -1.361517    33.4  \n",
       "4    1.077737 -0.752922 -1.106115  0.113032  0.441052 -1.026501    36.2  \n",
       "..        ...       ...       ...       ...       ...       ...     ...  \n",
       "501 -0.625796 -0.982843 -0.803212  1.176466  0.387217 -0.418147    22.4  \n",
       "502 -0.716639 -0.982843 -0.803212  1.176466  0.441052 -0.500850    20.6  \n",
       "503 -0.773684 -0.982843 -0.803212  1.176466  0.441052 -0.983048    23.9  \n",
       "504 -0.668437 -0.982843 -0.803212  1.176466  0.403225 -0.865302    22.0  \n",
       "505 -0.613246 -0.982843 -0.803212  1.176466  0.441052 -0.669058    11.9  \n",
       "\n",
       "[506 rows x 14 columns]"
      ]
     },
     "execution_count": 2,
     "metadata": {},
     "output_type": "execute_result"
    }
   ],
   "source": [
    "import pandas as pd\n",
    "from sklearn.preprocessing import StandardScaler\n",
    "\n",
    "df = pd.DataFrame(boston_house.data, columns=boston_house.feature_names)\n",
    "\n",
    "# 데이터 정규화\n",
    "scaler = StandardScaler()\n",
    "scaler.fit(df.values[:,:])\n",
    "df.values[:,:] = scaler.transform(df.values[:,:])\n",
    "\n",
    "# 타겟 변수를 마지막에 추가하기\n",
    "df['TARGET'] = boston_house.target\n",
    "df"
   ]
  },
  {
   "cell_type": "markdown",
   "metadata": {},
   "source": [
    "## 3. 데이터셋 분할 $\\to$ Train, Valid, Test"
   ]
  },
  {
   "cell_type": "code",
   "execution_count": 3,
   "metadata": {},
   "outputs": [],
   "source": [
    "import torch\n",
    "data_numpy = torch.from_numpy(df.values).float()"
   ]
  },
  {
   "cell_type": "code",
   "execution_count": 4,
   "metadata": {},
   "outputs": [
    {
     "name": "stdout",
     "output_type": "stream",
     "text": [
      "torch.Size([506, 13]) torch.Size([506, 1])\n"
     ]
    }
   ],
   "source": [
    "x = data_numpy[:, :-1] # 독립 변수\n",
    "y = data_numpy[:, -1:] # 타겟 변수\n",
    "print(x.shape, y.shape)"
   ]
  },
  {
   "cell_type": "code",
   "execution_count": 5,
   "metadata": {},
   "outputs": [],
   "source": [
    "# Train / Validation / Test 분할 비율\n",
    "split_ratio = [0.6, 0.2, 0.2]"
   ]
  },
  {
   "cell_type": "code",
   "execution_count": 6,
   "metadata": {},
   "outputs": [
    {
     "name": "stdout",
     "output_type": "stream",
     "text": [
      "Train: 303, Valid: 101, Test: 102 samples.\n"
     ]
    }
   ],
   "source": [
    "# 분할 데이터별 필요한 데이터 수 설정\n",
    "train_cnt = int(data_numpy.size(0) * split_ratio[0])\n",
    "valid_cnt = int(data_numpy.size(0) * split_ratio[1])\n",
    "test_cnt = data_numpy.size(0) - train_cnt - valid_cnt\n",
    "cnts = [train_cnt, valid_cnt, test_cnt]\n",
    "\n",
    "# 분할 결과를 확인하기 위해 화면에 출력\n",
    "print(\"Train: {}, Valid: {}, Test: {} samples.\".format(\n",
    "                                train_cnt, \n",
    "                                valid_cnt, \n",
    "                                test_cnt)\n",
    "     )\n"
   ]
  },
  {
   "cell_type": "code",
   "execution_count": 7,
   "metadata": {},
   "outputs": [
    {
     "name": "stdout",
     "output_type": "stream",
     "text": [
      "torch.Size([303, 13]) torch.Size([303, 1])\n",
      "torch.Size([101, 13]) torch.Size([101, 1])\n",
      "torch.Size([102, 13]) torch.Size([102, 1])\n"
     ]
    }
   ],
   "source": [
    "### 랜덤하게 데이터를 추출하여 Train / Validation / Test 구성 ###\n",
    "\n",
    "# 데이터 갯수 만큼 랜덤하게 인덱스 번호 생성\n",
    "indices = torch.randperm(data_numpy.size(0))\n",
    "\n",
    "# 독립변수(x)와 타겟변수(y)로부터 랜덤하게 생성한 인덱스(indices) 순서대로 추출\n",
    "x = torch.index_select(x, dim=0, index=indices)\n",
    "y = torch.index_select(y, dim=0, index=indices)\n",
    "\n",
    "# Train / Validation / Test 분할 비율에 맞게 데이터 분할\n",
    "x = x.split(cnts, dim=0)\n",
    "y = y.split(cnts, dim=0)\n",
    "\n",
    "# 분할된 데이터셋 크기 확인\n",
    "for x_i, y_i in zip(x, y):\n",
    "    print(x_i.size(), y_i.size())"
   ]
  },
  {
   "cell_type": "code",
   "execution_count": 8,
   "metadata": {},
   "outputs": [
    {
     "data": {
      "text/plain": [
       "(torch.Size([303, 13]), torch.Size([303, 1]))"
      ]
     },
     "execution_count": 8,
     "metadata": {},
     "output_type": "execute_result"
    }
   ],
   "source": [
    "x[0].shape, y[0].shape"
   ]
  },
  {
   "cell_type": "markdown",
   "metadata": {},
   "source": [
    "## 4.1. 딥러닝 모델 생성 1. Pytorch의 nn.Module 활용하는 방법"
   ]
  },
  {
   "cell_type": "code",
   "execution_count": 9,
   "metadata": {},
   "outputs": [],
   "source": [
    "import torch.nn as nn\n",
    "import torch.nn.functional as F\n",
    "import torch.optim as optim\n",
    "\n",
    "# 딥러닝 모델 생성 1. Pytorch의 nn.Module 활용하는 방법\n",
    "class MyModel(nn.Module):\n",
    "    \n",
    "    def __init__(self, input_dim, output_dim):\n",
    "        self.input_dim = input_dim # 입력 차원\n",
    "        self.output_dim = output_dim # 출력 차원\n",
    "        \n",
    "        super().__init__() # 부모 클래스 __init__ 보호\n",
    "        \n",
    "        # 은닉층(Hidden Layer) 설계\n",
    "        self.linear1 = nn.Linear(input_dim, 32)\n",
    "        self.linear2 = nn.Linear(32, 16)\n",
    "        self.linear3 = nn.Linear(16, 8)\n",
    "        self.linear4 = nn.Linear(8, 4)\n",
    "        self.linear5 = nn.Linear(4, output_dim)\n",
    "        self.act = nn.ReLU()\n",
    "        \n",
    "    def forward(self, x):\n",
    "        \n",
    "        # 객체 호출 시 입력 텐서 크기: |x| = (batch_size, input_dim)\n",
    "        h = self.act(self.linear1(x)) # |h| = (batch_size, 32)\n",
    "        h = self.act(self.linear2(h))\n",
    "        h = self.act(self.linear3(h))\n",
    "        h = self.act(self.linear4(h))\n",
    "        y = self.linear5(h)\n",
    "        # 출력텐서 크기: |y| = (batch_size, output_dim)\n",
    "        \n",
    "        # 구축된 신경망 반환(return)\n",
    "        return y"
   ]
  },
  {
   "cell_type": "markdown",
   "metadata": {},
   "source": [
    "## 4.2 딥러닝 모델 생성 2. Pytorch의 nn.Sequential을 활용하는 방법"
   ]
  },
  {
   "cell_type": "code",
   "execution_count": 10,
   "metadata": {},
   "outputs": [
    {
     "name": "stdout",
     "output_type": "stream",
     "text": [
      "Sequential(\n",
      "  (0): Linear(in_features=13, out_features=5, bias=True)\n",
      "  (1): LeakyReLU(negative_slope=0.01)\n",
      "  (2): Linear(in_features=5, out_features=5, bias=True)\n",
      "  (3): LeakyReLU(negative_slope=0.01)\n",
      "  (4): Linear(in_features=5, out_features=5, bias=True)\n",
      "  (5): LeakyReLU(negative_slope=0.01)\n",
      "  (6): Linear(in_features=5, out_features=5, bias=True)\n",
      "  (7): LeakyReLU(negative_slope=0.01)\n",
      "  (8): Linear(in_features=5, out_features=5, bias=True)\n",
      "  (9): LeakyReLU(negative_slope=0.01)\n",
      "  (10): Linear(in_features=5, out_features=1, bias=True)\n",
      ")\n"
     ]
    }
   ],
   "source": [
    "# Pytorch의 nn.Sequential을 활용하는 방법\n",
    "input_dim = x[0].size(-1)\n",
    "ouput_dim = y[0].size(-1)\n",
    "model_sequential = nn.Sequential(\n",
    "    nn.Linear(input_dim, 5),\n",
    "    nn.LeakyReLU(),\n",
    "    nn.Linear(5, 5),\n",
    "    nn.LeakyReLU(),\n",
    "    nn.Linear(5, 5),\n",
    "    nn.LeakyReLU(),\n",
    "    nn.Linear(5, 5),\n",
    "    nn.LeakyReLU(),\n",
    "    nn.Linear(5, 5),\n",
    "    nn.LeakyReLU(),\n",
    "    nn.Linear(5, ouput_dim),\n",
    ")\n",
    "\n",
    "# 네트워크 형태 확인을 위해 화면에 모델을 출력\n",
    "print(model_sequential)"
   ]
  },
  {
   "cell_type": "markdown",
   "metadata": {},
   "source": [
    "## 5.학습(Train) 함수 작성"
   ]
  },
  {
   "cell_type": "code",
   "execution_count": 11,
   "metadata": {},
   "outputs": [],
   "source": [
    "# 학습 모델 저장을 위한 deepcopy 라이브러리 임포트\n",
    "from copy import deepcopy\n",
    "\n",
    "def train(\n",
    "    model, # 신경망 모델\n",
    "    x, # 학습데이트\n",
    "    y, # 예측값(정답)\n",
    "    loss_func, # 손실함수\n",
    "    lr=1e-4, # 학습률\n",
    "    n_epochs=100, # Epoch 수행 횟수\n",
    "    batch_size=32, # 미니배치 크기\n",
    "    print_interval=1000, # 학습결과를 출력하는 간격\n",
    "):\n",
    "\n",
    "    lowest_loss = np.inf\n",
    "    best_model = None\n",
    "    optimizer = optim.SGD(model.parameters(), lr=lr)\n",
    "    \n",
    "    # GPU 사용이 가능할 경우 사용, 불가능할 경우 CPU 사용\n",
    "    device = torch.device('cpu')\n",
    "    if torch.cuda.is_available():\n",
    "        device = torch.device('cuda')\n",
    "    \n",
    "    # 학습 시작 전 모든 값을 지정된 Device로 이동\n",
    "    model = model.to(device)\n",
    "    x = [x_i.to(device) for x_i in x]\n",
    "    y = [y_i.to(device) for y_i in y]\n",
    "    \n",
    "    ### 학습 및 검증 시작 ###\n",
    "    # 학습 진행상태(Loss)를 시각화하기 위한 List todtjd\n",
    "    train_history = []\n",
    "    valid_history = []\n",
    "    \n",
    "    ### Epoch 시작 ###\n",
    "    for epoch_index in range(n_epochs):\n",
    "        \n",
    "        '''\n",
    "        우리 예제의 경우 텐서 형태\n",
    "        x[0]: x_1, y_1 -> torch.Size([303, 13]) torch.Size([303, 1])\n",
    "        x[1]: x_2, y_2 -> torch.Size([101, 13]) torch.Size([101, 1])\n",
    "        x[2]: x_3, y_3 -> torch.Size([102, 13]) torch.Size([102, 1])\n",
    "        '''\n",
    "        \n",
    "        train_x, train_y = x[0], y[0]\n",
    "        valid_x, valid_y = x[1], y[1]\n",
    "        test_x, test_y = x[2], y[2]\n",
    "        \n",
    "        # 미니배치 만들기 x[0], y[0] --> train set\n",
    "        indices= torch.randperm(train_x.size(0), device=train_x.device)\n",
    "        train_x = torch.index_select(train_x, dim=0, index=indices)\n",
    "        train_y = torch.index_select(train_y, dim=0, index=indices)\n",
    "        train_x_batch = torch.split(train_x, batch_size, dim=0)\n",
    "        train_y_batch = torch.split(train_y, batch_size, dim=0)\n",
    "        \n",
    "        # 개별 |train_x_batch| = (batch_size, input_dim)\n",
    "\n",
    "        ### Train 데이터 학습 시작 ###\n",
    "        model.train() # 학습모드 On\n",
    "        total_loss_train = 0\n",
    "        for batch_index in range(len(train_x_batch)):\n",
    "            \n",
    "            # 텐서 형태\n",
    "            # |x_i| = (batch_size, 13)\n",
    "            # |y_i| = (batch_size, 1)\n",
    "            \n",
    "            # 전진(forward) 학습 \n",
    "            y_hat = model(train_x_batch[batch_index])\n",
    "\n",
    "            # 손실값 계산\n",
    "            loss = loss_func(y_hat, train_y_batch[batch_index])\n",
    "\n",
    "            # 미분 수행 (back propagation)\n",
    "            optimizer.zero_grad() # 기존 미분값이 있다면 초기화\n",
    "            loss.backward()\n",
    "        \n",
    "            # Stochastic Gradient Descent 수행\n",
    "            optimizer.step()\n",
    "            \n",
    "            # Total Loss 업데이트\n",
    "            total_loss_train += float(loss) \n",
    "        \n",
    "        # 최종 Train Loss 계산 -> Train 종료\n",
    "        train_loss = total_loss_train / len(train_x_batch)\n",
    "        \n",
    "        ### Validation 시작 ###\n",
    "        model.eval() # 학습모드 off\n",
    "        with torch.no_grad():\n",
    "            y_hat = model(valid_x)\n",
    "            loss = loss_func(y_hat, valid_y)\n",
    "            valid_loss = loss / len(valid_y)\n",
    "\n",
    "        # Valid Loss를 확인하여 모델을 저장\n",
    "        if valid_loss <= lowest_loss:\n",
    "            lowest_loss = valid_loss\n",
    "            best_model = deepcopy(model.state_dict())\n",
    "            torch.save(\n",
    "                {\n",
    "                    'model': best_model,\n",
    "                    'n_epochs': n_epochs,\n",
    "                    'batch_size': batch_size,\n",
    "                    'lr': lr,\n",
    "                    'optimizer': 'SGD',\n",
    "                }, \n",
    "                'model_regression.pth'\n",
    "            )\n",
    "            \n",
    "        # 1회 epoch 종료 후 Loss 출력\n",
    "        if (epoch_index + 1) % print_interval == 0:\n",
    "            print(\n",
    "                'Epoch({0:2d}/{1:2d}): train_loss={2:8.6f}  valid_loss={3:8.6f}  lowest_loss={4:8.6f}'.format(\n",
    "                    epoch_index+1, \n",
    "                    n_epochs,\n",
    "                    train_loss,\n",
    "                    valid_loss,\n",
    "                    lowest_loss,               \n",
    "                )\n",
    "            )"
   ]
  },
  {
   "cell_type": "markdown",
   "metadata": {},
   "source": [
    "## 6. Train, valid 데이터를 이용하여 학습 진행"
   ]
  },
  {
   "cell_type": "code",
   "execution_count": 12,
   "metadata": {},
   "outputs": [],
   "source": [
    "# 하이퍼 파라미터\n",
    "batch_size = 32\n",
    "n_epochs = 10000\n",
    "print_interval = 1000\n",
    "learning_rate = 1e-4\n",
    "model_MyModel = MyModel(x[0].size(-1), y[0].size(-1))\n",
    "model_sequential\n",
    "loss_func = F.mse_loss"
   ]
  },
  {
   "cell_type": "markdown",
   "metadata": {},
   "source": [
    "### 6.1. nn.Module을 사용한 학습"
   ]
  },
  {
   "cell_type": "code",
   "execution_count": 13,
   "metadata": {
    "scrolled": true
   },
   "outputs": [
    {
     "name": "stdout",
     "output_type": "stream",
     "text": [
      "Epoch(1000/10000): train_loss=3.693047  valid_loss=0.162697  lowest_loss=0.160925\n",
      "Epoch(2000/10000): train_loss=2.069057  valid_loss=0.154008  lowest_loss=0.151120\n",
      "Epoch(3000/10000): train_loss=1.219060  valid_loss=0.154911  lowest_loss=0.149705\n",
      "Epoch(4000/10000): train_loss=0.883124  valid_loss=0.166389  lowest_loss=0.149705\n",
      "Epoch(5000/10000): train_loss=0.757545  valid_loss=0.171784  lowest_loss=0.149705\n",
      "Epoch(6000/10000): train_loss=0.583953  valid_loss=0.172766  lowest_loss=0.149705\n",
      "Epoch(7000/10000): train_loss=0.534458  valid_loss=0.171277  lowest_loss=0.149705\n",
      "Epoch(8000/10000): train_loss=0.483372  valid_loss=0.174632  lowest_loss=0.149705\n",
      "Epoch(9000/10000): train_loss=0.414599  valid_loss=0.177102  lowest_loss=0.149705\n",
      "Epoch(10000/10000): train_loss=0.367553  valid_loss=0.178229  lowest_loss=0.149705\n"
     ]
    }
   ],
   "source": [
    "train(model_MyModel, x, y, loss_func, n_epochs=n_epochs, batch_size=batch_size, print_interval=print_interval)"
   ]
  },
  {
   "cell_type": "markdown",
   "metadata": {},
   "source": [
    "### 6.2. nn.Sequential을 사용한 학습"
   ]
  },
  {
   "cell_type": "code",
   "execution_count": 14,
   "metadata": {},
   "outputs": [],
   "source": [
    "#train(model_sequencial, x, y, loss_func, n_epochs=n_epochs, batch_size=batch_size, print_interval=print_interval)"
   ]
  },
  {
   "cell_type": "markdown",
   "metadata": {},
   "source": [
    "## 7. Test 데이터 평가"
   ]
  },
  {
   "cell_type": "code",
   "execution_count": 15,
   "metadata": {},
   "outputs": [],
   "source": [
    "# n_epochs = check_point['n_epochs']\n",
    "# batch_size = check_point['batch_size']\n",
    "# lr = check_point['lr']"
   ]
  },
  {
   "cell_type": "markdown",
   "metadata": {},
   "source": [
    "### 7.1. nn.Module을 사용할 경우"
   ]
  },
  {
   "cell_type": "code",
   "execution_count": 16,
   "metadata": {},
   "outputs": [
    {
     "data": {
      "text/plain": [
       "<All keys matched successfully>"
      ]
     },
     "execution_count": 16,
     "metadata": {},
     "output_type": "execute_result"
    }
   ],
   "source": [
    "# nn.Module을 상속받은 클래스를 이용하여 빈 모델 생성\n",
    "model = MyModel(x[0].size(-1), y[0].size(-1))\n",
    "\n",
    "# model.pth 파일 정보를 업로드하여 check_point 변수에 저장\n",
    "check_point = torch.load('./model_regression.pth')\n",
    "\n",
    "# model.pth에 저장된 학습 파라미터를 model에 업로드\n",
    "model.load_state_dict(check_point['model'])"
   ]
  },
  {
   "cell_type": "markdown",
   "metadata": {},
   "source": [
    "### 7.2. nn.Sequential을 사용할 경우"
   ]
  },
  {
   "cell_type": "code",
   "execution_count": 17,
   "metadata": {},
   "outputs": [],
   "source": [
    "# 파라미터가 적재되지 않은 초기 모델 생성\n",
    "# input_dim = x[0].size(-1)\n",
    "# ouput_dim = y[0].size(-1)\n",
    "# model_sequencial = nn.Sequential(\n",
    "#     nn.Linear(input_dim, 5),\n",
    "#     nn.LeakyReLU(),\n",
    "#     nn.Linear(5, 5),\n",
    "#     nn.LeakyReLU(),\n",
    "#     nn.Linear(5, 5),\n",
    "#     nn.LeakyReLU(),\n",
    "#     nn.Linear(5, 5),\n",
    "#     nn.LeakyReLU(),\n",
    "#     nn.Linear(5, 5),\n",
    "#     nn.LeakyReLU(),\n",
    "#     nn.Linear(5, ouput_dim),\n",
    "# )\n",
    "\n",
    "# 저장된 모델 파일을 이용하여 모델에 파라미터 적재\n",
    "# model.load_state_dict(check_point['model'])"
   ]
  },
  {
   "cell_type": "markdown",
   "metadata": {},
   "source": [
    "## 8. 예측 및 평가"
   ]
  },
  {
   "cell_type": "code",
   "execution_count": 18,
   "metadata": {
    "scrolled": true
   },
   "outputs": [
    {
     "name": "stdout",
     "output_type": "stream",
     "text": [
      "             y      y_hat\n",
      "0    26.400000  25.477537\n",
      "1    36.200001  33.777271\n",
      "2    22.400000  24.002289\n",
      "3    21.700001  23.472151\n",
      "4    20.500000  18.415392\n",
      "..         ...        ...\n",
      "97   22.600000  21.904406\n",
      "98   24.299999  23.139069\n",
      "99   19.400000  20.886578\n",
      "100  50.000000  39.385952\n",
      "101  23.299999  24.450533\n",
      "\n",
      "[102 rows x 2 columns]\n"
     ]
    }
   ],
   "source": [
    "# 예측값과 실제값을 표로 비교\n",
    "y_hat = model(x[2])\n",
    "y = y[2]\n",
    "df = pd.DataFrame(torch.cat([y, y_hat], dim=1).detach().numpy(),\n",
    "                  columns=[\"y\", \"y_hat\"])\n",
    "print(df)"
   ]
  },
  {
   "cell_type": "code",
   "execution_count": 19,
   "metadata": {
    "scrolled": false
   },
   "outputs": [
    {
     "data": {
      "image/png": "[encoded data removed]",
      "text/plain": [
       "<Figure size 720x720 with 6 Axes>"
      ]
     },
     "metadata": {
      "needs_background": "light"
     },
     "output_type": "display_data"
    }
   ],
   "source": [
    "# 시각화\n",
    "import seaborn as sns\n",
    "sns.pairplot(df, height=5)\n",
    "plt.show()"
   ]
  },
  {
   "cell_type": "code",
   "execution_count": 21,
   "metadata": {},
   "outputs": [
    {
     "name": "stdout",
     "output_type": "stream",
     "text": [
      "Mean Squared Error: 7.812567018995098\n"
     ]
    }
   ],
   "source": [
    "mse = np.sum((y.detach().numpy() - y_hat.detach().numpy())**2 ) / y.size(0)\n",
    "print('Mean Squared Error:', mse)"
   ]
  },
  {
   "cell_type": "code",
   "execution_count": null,
   "metadata": {},
   "outputs": [],
   "source": []
  }
 ],
 "metadata": {
  "kernelspec": {
   "display_name": "Python 3",
   "language": "python",
   "name": "python3"
  },
  "language_info": {
   "codemirror_mode": {
    "name": "ipython",
    "version": 3
   },
   "file_extension": ".py",
   "mimetype": "text/x-python",
   "name": "python",
   "nbconvert_exporter": "python",
   "pygments_lexer": "ipython3",
   "version": "3.8.5"
  }
 },
 "nbformat": 4,
 "nbformat_minor": 4
}
