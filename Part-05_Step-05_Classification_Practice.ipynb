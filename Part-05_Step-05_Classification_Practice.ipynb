{
 "cells": [
  {
   "cell_type": "markdown",
   "metadata": {},
   "source": [
    "# 차근차근 딥러닝 Part 05. 딥러닝 분류 - Step 05. 딥러닝 분류 실습"
   ]
  },
  {
   "cell_type": "markdown",
   "metadata": {},
   "source": [
    "## 0. Torchvision 설치"
   ]
  },
  {
   "cell_type": "code",
   "execution_count": 1,
   "metadata": {},
   "outputs": [],
   "source": [
    "#!pip install torchvision"
   ]
  },
  {
   "cell_type": "markdown",
   "metadata": {},
   "source": [
    "## 1. MNIST 데이터 로딩"
   ]
  },
  {
   "cell_type": "markdown",
   "metadata": {},
   "source": [
    "- 필요한 라이브러리 임포트"
   ]
  },
  {
   "cell_type": "code",
   "execution_count": 2,
   "metadata": {},
   "outputs": [],
   "source": [
    "import numpy as np\n",
    "import matplotlib.pyplot as plt\n",
    "import pandas as pd\n",
    "\n",
    "import torch\n",
    "import torch.nn as nn\n",
    "import torch.nn.functional as F\n",
    "import torch.optim as optim\n",
    "\n",
    "from torchvision import datasets, transforms\n",
    "from copy import deepcopy\n",
    "from sklearn.metrics import confusion_matrix"
   ]
  },
  {
   "cell_type": "markdown",
   "metadata": {},
   "source": [
    "- 데이터 로딩"
   ]
  },
  {
   "cell_type": "code",
   "execution_count": 3,
   "metadata": {},
   "outputs": [],
   "source": [
    "# Train 데이터셋 로딩\n",
    "train_data = datasets.MNIST(\n",
    "    root='./data', # 데이터셋을 저장할 경로, 이 경우 현재 위치에 data 폴더를 만들고 다운로드 수행\n",
    "    train=True,  # True이면 Train 데이터셋을 다운로드\n",
    "    download=True, # True일 경우 다운로드\n",
    "    transform=transforms.Compose( #어떤 형태로 데이터를 불러올 것인가. \n",
    "        [transforms.ToTensor(),]  # 일반 이미지는 0-255사이 값, (H, W, C) 형태\n",
    "    ),                            # pytorch: 0-1사이의 값을 가지고 (C, H, W)의 형태\n",
    ")\n",
    "\n",
    "# Test 데이터셋 로딩\n",
    "test_data = datasets.MNIST(\n",
    "    root='./data', \n",
    "    train=False,\n",
    "    transform=transforms.Compose(\n",
    "        [transforms.ToTensor(),]\n",
    "    ),\n",
    ")"
   ]
  },
  {
   "cell_type": "code",
   "execution_count": 4,
   "metadata": {},
   "outputs": [],
   "source": [
    "def show_img(x):\n",
    "    img = (np.array(x.detach().cpu(), dtype='float')).reshape(28,28)\n",
    "    plt.imshow(img, cmap='gray')\n",
    "    plt.show()"
   ]
  },
  {
   "cell_type": "code",
   "execution_count": 5,
   "metadata": {},
   "outputs": [
    {
     "data": {
      "image/png": "[encoded data removed]",
      "text/plain": [
       "<Figure size 432x288 with 1 Axes>"
      ]
     },
     "metadata": {
      "needs_background": "light"
     },
     "output_type": "display_data"
    }
   ],
   "source": [
    "show_img(train_data.data[0]) # Train 데이터넷 1번째 이미지 확인"
   ]
  },
  {
   "cell_type": "markdown",
   "metadata": {},
   "source": [
    "## 2. 전처리 (Pre-processing)"
   ]
  },
  {
   "cell_type": "markdown",
   "metadata": {},
   "source": [
    "- 이미지 값을 0 ~ 1 사이의 값으로 변환\n",
    "- 텐서 크기 변환: (Batch_size, C, H, W) $\\to$ (batch_size, H $\\times$ W)"
   ]
  },
  {
   "cell_type": "code",
   "execution_count": 6,
   "metadata": {},
   "outputs": [],
   "source": [
    "def norm_and_resize(img):\n",
    "    img = img.float() / 255.0 # 0 ~ 255 -> 0 ~ 1사이의 값으로 변환\n",
    "    img = img.view(img.size(0), -1) # 28 * 28 픽셀 -> 1 * 784 픽셀\n",
    "    return img"
   ]
  },
  {
   "cell_type": "markdown",
   "metadata": {},
   "source": [
    "- Train 데이터셋 $\\to$ train / valid 데이터셋으로 분할"
   ]
  },
  {
   "cell_type": "code",
   "execution_count": 7,
   "metadata": {},
   "outputs": [],
   "source": [
    "def make_train_valid_test(ratio, train, test):\n",
    "    \n",
    "    ### Split train dataset -> train / valid ###\n",
    "    \n",
    "    # Train / valid 데이터셋에 필요한 숫자 계산\n",
    "    train_cnt = int(train.data.size(0) * ratio[0])\n",
    "    valid_cnt = int(train.data.size(0) * ratio[1])\n",
    "    cnts = [train_cnt, valid_cnt]\n",
    "    \n",
    "    # Train -> 랜덤추출하여 train / valid 구성\n",
    "    indices = torch.randperm(train.data.size(0))\n",
    "    train_x = torch.index_select(train.data, dim=0, index=indices)\n",
    "    train_y = torch.index_select(train.targets, dim=0, index=indices)\n",
    "    \n",
    "    train_x, valid_x = train_x.split(cnts, dim=0)\n",
    "    train_y, valid_y = train_y.split(cnts, dim=0)\n",
    "    test_x, test_y = test.data, test.targets\n",
    "    \n",
    "    # 데이터 Normalize & (batch_size, H*W)로 텐서크기 변환\n",
    "    train_x = norm_and_resize(train_x)\n",
    "    valid_x = norm_and_resize(valid_x)\n",
    "    test_x =  norm_and_resize(test_x)\n",
    "\n",
    "    # train, valid, test 데이터셋을 하나로 묶어주기\n",
    "    x = [train_x, valid_x, test_x]\n",
    "    y = [train_y, valid_y, test_y]\n",
    "    \n",
    "    # train, valid, test 데이터셋 형태를 모니터로 확인\n",
    "    for x_i, y_i in zip(x, y):\n",
    "        print(x_i.size(), y_i.size())\n",
    "        \n",
    "    # 결괏값을 튜플로 리턴\n",
    "    return x, y"
   ]
  },
  {
   "cell_type": "markdown",
   "metadata": {},
   "source": [
    "## 3. DNN 신경망 구축"
   ]
  },
  {
   "cell_type": "code",
   "execution_count": 8,
   "metadata": {},
   "outputs": [],
   "source": [
    "# 딥러닝 모델 생성 -> Pytorch의 nn.Module 활용\n",
    "class MyModel(nn.Module):\n",
    "    \n",
    "    def __init__(self, input_dim, output_dim):\n",
    "        self.input_dim = input_dim # 입력 차원\n",
    "        self.output_dim = output_dim # 출력 차원\n",
    "        \n",
    "        super().__init__() # 부모 클래스 __init__ 보호\n",
    "        \n",
    "        # 은닉층(Hidden Layer) 설계\n",
    "        self.linear1 = nn.Linear(input_dim, 500)\n",
    "        self.linear2 = nn.Linear(500, 400)\n",
    "        self.linear3 = nn.Linear(400, 300)\n",
    "        self.linear4 = nn.Linear(300, 200)\n",
    "        self.linear5 = nn.Linear(200, 100)\n",
    "        self.linear6 = nn.Linear(100, 50)\n",
    "        self.linear7 = nn.Linear(50, output_dim)\n",
    "        #self.act = nn.ReLU()\n",
    "        self.act = nn.LeakyReLU() # LeakyReLU 사용\n",
    "        self.logsoftmax = nn.LogSoftmax(dim=-1)\n",
    "        \n",
    "    def forward(self, x):\n",
    "        \n",
    "        # 객체 호출 시 입력 텐서 크기: |x| = (batch_size, input_dim)\n",
    "        h = self.act(self.linear1(x)) # |h| = (batch_size, 32)\n",
    "        h = self.act(self.linear2(h))\n",
    "        h = self.act(self.linear3(h))\n",
    "        h = self.act(self.linear4(h))\n",
    "        h = self.act(self.linear5(h))\n",
    "        h = self.act(self.linear6(h))\n",
    "        y = self.logsoftmax(self.linear7(h))\n",
    "        # 출력텐서 크기: |y| = (batch_size, output_dim)\n",
    "        \n",
    "        # 결괏값 반환(return)\n",
    "        return y"
   ]
  },
  {
   "cell_type": "markdown",
   "metadata": {},
   "source": [
    "## 4. DNN 신경망을 이용한 학습(Train) 함수 구현"
   ]
  },
  {
   "cell_type": "code",
   "execution_count": 9,
   "metadata": {},
   "outputs": [],
   "source": [
    "# 학습 모델 저장을 위한 deepcopy 라이브러리 임포트\n",
    "from copy import deepcopy\n",
    "\n",
    "def train(\n",
    "    model,     # 신경망 모델\n",
    "    x,         # 학습데이터\n",
    "    y,         # 예측값(정답)\n",
    "    crit,      # 손실함수\n",
    "    lr=1e-4,   # 학습률\n",
    "    n_epochs=100,  # Epoch 수행 횟수\n",
    "    batch_size=32, # 미니배치 크기\n",
    "    print_interval=1000, # 학습결과를 출력하는 간격\n",
    "    early_stop=100,      # 학습 Loss가 n회 연속 떨어지지 않는 경우 종료\n",
    "    model_fn='model.pth' # 종료된 학습 파라미터가 저장될 파일 이름\n",
    "):\n",
    "\n",
    "    print(model) # Model 구조를 확인하기 위한 출력\n",
    "    lowest_loss = np.inf # 최소 Loss를 비교하기 위한 초깃값 -> 무한대로 설정\n",
    "    lowest_epoch = np.inf\n",
    "    best_model = None\n",
    "    \n",
    "    #optimizer = optim.SGD(model.parameters(), lr=lr)\n",
    "    optimizer = optim.Adam(model.parameters())\n",
    "    \n",
    "    # GPU 사용 가능할 경우 사용, 불가능할 경우 CPU 사용\n",
    "    device = torch.device('cpu')\n",
    "    if torch.cuda.is_available():\n",
    "        device = torch.device('cuda')\n",
    "    \n",
    "    model = model.to(device)\n",
    "    x = [x_i.to(device) for x_i in x]\n",
    "    y = [y_i.to(device) for y_i in y]\n",
    "    \n",
    "    ### Epoch ###\n",
    "    \n",
    "    # train, valid loss 변경 이력 저장을 위한 리스트 생성\n",
    "    train_history = []\n",
    "    valid_history = []\n",
    "    \n",
    "    # epoch 시작\n",
    "    for epoch_index in range(n_epochs):\n",
    "        \n",
    "        train_x, train_y = x[0], y[0]\n",
    "        valid_x, valid_y = x[1], y[1]\n",
    "        test_x, test_y = x[2], y[2]\n",
    "        \n",
    "        # 미니배치 만들기 x[0], y[0] --> train set\n",
    "        indices= torch.randperm(train_x.size(0), device=train_x.device)\n",
    "        indices = torch.randperm(train_x.size(0)).to(device)\n",
    "        \n",
    "        train_x = torch.index_select(train_x, dim=0, index=indices)\n",
    "        train_y = torch.index_select(train_y, dim=0, index=indices)\n",
    "        \n",
    "        train_x_batch = torch.split(train_x, batch_size, dim=0)\n",
    "        train_y_batch = torch.split(train_y, batch_size, dim=0)\n",
    "        \n",
    "        ### Train 데이터 학습 시작 ###\n",
    "        model.train() # 학습모드 On\n",
    "        train_loss = 0\n",
    "        for x_i, y_i in zip(train_x_batch, train_y_batch):\n",
    "            \n",
    "            # 텐서 형태\n",
    "            # |x_i| = (batch_size, 784), |y_i| = (batch_size, 1)\n",
    "            \n",
    "            # 전진(forward) 학습 \n",
    "            y_hat_i = model(x_i)\n",
    "\n",
    "            # 손실값 계산\n",
    "            loss = crit(y_hat_i, y_i.squeeze())\n",
    "\n",
    "            # 미분 수행 (back propagation)\n",
    "            optimizer.zero_grad() # 기존 미분값이 있다면 초기화\n",
    "            loss.backward()\n",
    "        \n",
    "            # Stochastic Gradient Descent 수행\n",
    "            optimizer.step()\n",
    "            \n",
    "            # Total Loss 업데이트\n",
    "            train_loss += float(loss) # 메모리 누수 방지(computation graph 없애기)\n",
    "        \n",
    "        # Total train loss -> average train loss\n",
    "        train_loss /= len(train_x_batch)\n",
    "        \n",
    "        ### 최종 Train Loss 계산 -> Train 종료 ###\n",
    "        \n",
    "        ### Validation 시작 ###\n",
    "        model.eval() # 학습모드 off\n",
    "        with torch.no_grad():\n",
    "            # valid 데이터셋을 미니배치로 분할\n",
    "            valid_x_batch = valid_x.split(batch_size, dim=0)\n",
    "            valid_y_batch = valid_y.split(batch_size, dim=0)\n",
    "            \n",
    "            valid_loss = 0\n",
    "            \n",
    "            for x_i, y_i in zip(valid_x_batch, valid_y_batch):\n",
    "                y_hat_i = model(x_i)\n",
    "                loss = crit(y_hat_i, y_i.squeeze())\n",
    "                valid_loss += float(loss)\n",
    "\n",
    "        ### 최종 Valid Loss 계산 -> Validation 종료 ###\n",
    "        valid_loss = valid_loss / len(valid_x_batch)\n",
    "        \n",
    "        # Train, valid loss를 저장\n",
    "        train_history += [train_loss]\n",
    "        valid_history += [valid_loss]\n",
    "        \n",
    "        # 1회 epoch 종료 후 Loss 출력\n",
    "        if (epoch_index + 1) % print_interval == 0:\n",
    "            print(\n",
    "                'Epoch({0:2d}/{1:2d}): train_loss={2:8.6f}  valid_loss={3:8.6f}  lowest_loss={4:8.6f}'.format(\n",
    "                    epoch_index+1, \n",
    "                    n_epochs,\n",
    "                    train_loss,\n",
    "                    valid_loss,\n",
    "                    lowest_loss,               \n",
    "                )\n",
    "            )\n",
    "\n",
    "        # Valid Loss를 확인하여 최소 Loss일 경우 모델을 저장\n",
    "        if valid_loss <= lowest_loss:\n",
    "            lowest_loss = valid_loss\n",
    "            lowest_epoch = epoch_index + 1\n",
    "            best_model = deepcopy(model.state_dict())\n",
    "            torch.save(\n",
    "                {\n",
    "                    #'model_state_dict': best_model.state_dict(),\n",
    "                    'model': best_model,\n",
    "                    'n_epochs': n_epochs,\n",
    "                    'batch_size': batch_size,\n",
    "                    'lr': lr,\n",
    "                    'optimizer': 'SGD',\n",
    "                }, \n",
    "                model_fn\n",
    "            )\n",
    "        \n",
    "        # 지정된 횟수(early_stop) 동안 학습 진전이 없을 경우 조기 종료\n",
    "        else:\n",
    "            if early_stop > 0 and lowest_epoch + early_stop < epoch_index + 1:\n",
    "                print(\"There is no improvement during last %d epochs.\" % early_stop)\n",
    "                break\n",
    "\n",
    "    print(\"The best validation loss from epoch %d: %.4e\" % (lowest_epoch + 1, lowest_loss))\n",
    "        \n",
    "    return train_history, valid_history"
   ]
  },
  {
   "cell_type": "code",
   "execution_count": 90,
   "metadata": {},
   "outputs": [],
   "source": [
    "def visualize_loss_history(train_loss_history, valid_loss_history):\n",
    "    \n",
    "    from matplotlib import font_manager, rc\n",
    "    import matplotlib.pyplot as plt\n",
    "    \n",
    "    #한글 폰트 안깨지게 설정\n",
    "    plt.rcParams['axes.unicode_minus'] = False\n",
    "    \n",
    "    # 글꼴(font) 설정\n",
    "    SMALL_SIZE = 25\n",
    "    MEDIUM_SIZE = 30\n",
    "    BIGGER_SIZE = 35 \n",
    "    plt.rc('font', size=SMALL_SIZE) # 기본 글자 크기\n",
    "    plt.rc('axes', titlesize=SMALL_SIZE) # sub 그림 제목 글자 크기\n",
    "    plt.rc('axes', labelsize=MEDIUM_SIZE) # x, y축 글자크기\n",
    "    plt.rc('xtick', labelsize=SMALL_SIZE) # x축 눈금 크기\n",
    "    plt.rc('ytick', labelsize=SMALL_SIZE) # y축 눈금 크기\n",
    "    plt.rc('legend', fontsize=SMALL_SIZE) # 범례 글자 크기\n",
    "    plt.rc('figure', titlesize=BIGGER_SIZE) # 그림 제목 크기\n",
    "\n",
    "    # 그리기(Plotting)\n",
    "    plot_from = 0\n",
    "    plt.figure(figsize=(20, 10))\n",
    "    plt.grid(True)\n",
    "    plt.title(\"Train / Valid Loss History\")\n",
    "    plt.ylabel('Loss')\n",
    "    plt.xlabel('Epochs')\n",
    "    plt.plot(\n",
    "        range(plot_from, len(train_history)), \n",
    "        train_history[plot_from:],\n",
    "        label='Train Histroy',\n",
    "    )\n",
    "    plt.plot(\n",
    "        range(plot_from, len(valid_history)), \n",
    "        valid_history[plot_from:],\n",
    "        label='Valid History',\n",
    "    )\n",
    "    \n",
    "    plt.legend()\n",
    "    plt.yscale('log')\n",
    "    plt.show()"
   ]
  },
  {
   "cell_type": "markdown",
   "metadata": {},
   "source": [
    "## 5. 학습 수행"
   ]
  },
  {
   "cell_type": "code",
   "execution_count": 11,
   "metadata": {},
   "outputs": [
    {
     "name": "stdout",
     "output_type": "stream",
     "text": [
      "torch.Size([48000, 784]) torch.Size([48000])\n",
      "torch.Size([12000, 784]) torch.Size([12000])\n",
      "torch.Size([10000, 784]) torch.Size([10000])\n",
      "MyModel(\n",
      "  (linear1): Linear(in_features=784, out_features=500, bias=True)\n",
      "  (linear2): Linear(in_features=500, out_features=400, bias=True)\n",
      "  (linear3): Linear(in_features=400, out_features=300, bias=True)\n",
      "  (linear4): Linear(in_features=300, out_features=200, bias=True)\n",
      "  (linear5): Linear(in_features=200, out_features=100, bias=True)\n",
      "  (linear6): Linear(in_features=100, out_features=50, bias=True)\n",
      "  (linear7): Linear(in_features=50, out_features=10, bias=True)\n",
      "  (act): LeakyReLU(negative_slope=0.01)\n",
      "  (logsoftmax): LogSoftmax(dim=-1)\n",
      ")\n",
      "Epoch(10/1000): train_loss=0.024684  valid_loss=0.120839  lowest_loss=0.093760\n",
      "Epoch(20/1000): train_loss=0.012531  valid_loss=0.117679  lowest_loss=0.093760\n",
      "Epoch(30/1000): train_loss=0.013314  valid_loss=0.116059  lowest_loss=0.093760\n",
      "Epoch(40/1000): train_loss=0.008985  valid_loss=0.119670  lowest_loss=0.093760\n",
      "Epoch(50/1000): train_loss=0.000002  valid_loss=0.195550  lowest_loss=0.093760\n",
      "There is no improvement during last 50 epochs.\n",
      "The best validation loss from epoch 7: 9.3760e-02\n"
     ]
    }
   ],
   "source": [
    "# 하이퍼 파라미터 설정\n",
    "params = {\n",
    "    'batch_size':  128,\n",
    "    'n_epochs': 1000, \n",
    "    'print_interval': 10, \n",
    "    'lr': 1e-4, \n",
    "    'early_stop': 50,\n",
    "    'model_fn': 'model_classification.pth', \n",
    "}\n",
    "\n",
    "# Train, Valid, Test 데이터셋 분할\n",
    "train_valid_ratio = [0.8, 0.2]\n",
    "x, y = make_train_valid_test(train_valid_ratio, train_data, test_data)\n",
    "\n",
    "# 모델 객체 생성 -> MyModel 클래스를 이용하여 빈 모델 생성\n",
    "input_size =x[0].size(-1)\n",
    "output_size = int(max(y[0])) + 1\n",
    "model = MyModel(input_size, output_size)\n",
    "\n",
    "# 손실함수 생성\n",
    "loss_func=nn.NLLLoss()\n",
    "\n",
    "# train 함수 호출을 통해 학습 수행\n",
    "train_history, valid_history = train(model, x, y, loss_func, **params)"
   ]
  },
  {
   "cell_type": "markdown",
   "metadata": {},
   "source": [
    "## 6. 학습 Loss 시각화"
   ]
  },
  {
   "cell_type": "code",
   "execution_count": 91,
   "metadata": {
    "scrolled": true
   },
   "outputs": [
    {
     "name": "stderr",
     "output_type": "stream",
     "text": [
      "Font 'default' does not have a glyph for '-' [U+2212], substituting with a dummy symbol.\n",
      "Substituting symbol - from STIXGeneral\n",
      "Font 'default' does not have a glyph for '-' [U+2212], substituting with a dummy symbol.\n",
      "Substituting symbol - from STIXGeneral\n",
      "Font 'default' does not have a glyph for '-' [U+2212], substituting with a dummy symbol.\n",
      "Substituting symbol - from STIXGeneral\n",
      "Font 'default' does not have a glyph for '-' [U+2212], substituting with a dummy symbol.\n",
      "Substituting symbol - from STIXGeneral\n",
      "Font 'default' does not have a glyph for '-' [U+2212], substituting with a dummy symbol.\n",
      "Substituting symbol - from STIXGeneral\n",
      "Font 'default' does not have a glyph for '-' [U+2212], substituting with a dummy symbol.\n",
      "Substituting symbol - from STIXGeneral\n",
      "Font 'default' does not have a glyph for '-' [U+2212], substituting with a dummy symbol.\n",
      "Substituting symbol - from STIXGeneral\n",
      "Font 'default' does not have a glyph for '-' [U+2212], substituting with a dummy symbol.\n",
      "Substituting symbol - from STIXGeneral\n",
      "Font 'default' does not have a glyph for '-' [U+2212], substituting with a dummy symbol.\n",
      "Substituting symbol - from STIXGeneral\n",
      "Font 'default' does not have a glyph for '-' [U+2212], substituting with a dummy symbol.\n",
      "Substituting symbol - from STIXGeneral\n",
      "Font 'default' does not have a glyph for '-' [U+2212], substituting with a dummy symbol.\n",
      "Substituting symbol - from STIXGeneral\n",
      "Font 'default' does not have a glyph for '-' [U+2212], substituting with a dummy symbol.\n",
      "Substituting symbol - from STIXGeneral\n",
      "Font 'default' does not have a glyph for '-' [U+2212], substituting with a dummy symbol.\n",
      "Substituting symbol - from STIXGeneral\n",
      "Font 'default' does not have a glyph for '-' [U+2212], substituting with a dummy symbol.\n",
      "Substituting symbol - from STIXGeneral\n",
      "Font 'default' does not have a glyph for '-' [U+2212], substituting with a dummy symbol.\n",
      "Substituting symbol - from STIXGeneral\n",
      "Font 'default' does not have a glyph for '-' [U+2212], substituting with a dummy symbol.\n",
      "Substituting symbol - from STIXGeneral\n",
      "Font 'default' does not have a glyph for '-' [U+2212], substituting with a dummy symbol.\n",
      "Substituting symbol - from STIXGeneral\n",
      "Font 'default' does not have a glyph for '-' [U+2212], substituting with a dummy symbol.\n",
      "Substituting symbol - from STIXGeneral\n",
      "Font 'default' does not have a glyph for '-' [U+2212], substituting with a dummy symbol.\n",
      "Substituting symbol - from STIXGeneral\n",
      "Font 'default' does not have a glyph for '-' [U+2212], substituting with a dummy symbol.\n",
      "Substituting symbol - from STIXGeneral\n",
      "Font 'default' does not have a glyph for '-' [U+2212], substituting with a dummy symbol.\n",
      "Substituting symbol - from STIXGeneral\n",
      "Font 'default' does not have a glyph for '-' [U+2212], substituting with a dummy symbol.\n",
      "Substituting symbol - from STIXGeneral\n",
      "Font 'default' does not have a glyph for '-' [U+2212], substituting with a dummy symbol.\n",
      "Substituting symbol - from STIXGeneral\n",
      "Font 'default' does not have a glyph for '-' [U+2212], substituting with a dummy symbol.\n",
      "Substituting symbol - from STIXGeneral\n"
     ]
    },
    {
     "data": {
      "image/png": "[encoded data removed]",
      "text/plain": [
       "<Figure size 1440x720 with 1 Axes>"
      ]
     },
     "metadata": {
      "needs_background": "light"
     },
     "output_type": "display_data"
    }
   ],
   "source": [
    "visualize_loss_history(train_history, valid_history)"
   ]
  },
  {
   "cell_type": "markdown",
   "metadata": {},
   "source": [
    "## 7. 학습 모델 업로드"
   ]
  },
  {
   "cell_type": "code",
   "execution_count": 15,
   "metadata": {},
   "outputs": [
    {
     "data": {
      "text/plain": [
       "<All keys matched successfully>"
      ]
     },
     "execution_count": 15,
     "metadata": {},
     "output_type": "execute_result"
    }
   ],
   "source": [
    "input_size =x[0].size(-1)\n",
    "output_size = int(max(y[0])) + 1\n",
    "model_fn = 'model_classification.pth'\n",
    "\n",
    "# nn.Module을 상속받은 클래스를 이용하여 빈 모델 생성\n",
    "model = MyModel(input_size, output_size)\n",
    "\n",
    "# model.pth 파일 정보를 업로드하여 check_point 변수에 저장\n",
    "check_point = torch.load(model_fn)\n",
    "\n",
    "# model.pth에 저장된 학습 파라미터를 model에 업로드\n",
    "model.load_state_dict(check_point['model'])"
   ]
  },
  {
   "cell_type": "markdown",
   "metadata": {},
   "source": [
    "## 8. 예측 및 평가"
   ]
  },
  {
   "cell_type": "markdown",
   "metadata": {},
   "source": [
    "### 8.1. 테스트셋 전체를 평가하는 함수"
   ]
  },
  {
   "cell_type": "code",
   "execution_count": 92,
   "metadata": {},
   "outputs": [],
   "source": [
    "def inference_testset(model, x, y, crit, batch_size=128):\n",
    "    test_loss = 0\n",
    "    y_hat = [] # Test 데이터의 예측값을 저장하기 위한 배열\n",
    "    \n",
    "    with torch.no_grad():\n",
    "        test_x = x.split(batch_size, dim=0)\n",
    "        test_y = y.split(batch_size, dim=0)\n",
    "\n",
    "        for x_i, y_i in zip(test_x, test_y):\n",
    "            y_hat_i = model(x_i)\n",
    "            loss = crit(y_hat_i, y_i.squeeze())\n",
    "            test_loss += float(loss)\n",
    "            y_hat += [y_hat_i]\n",
    "    test_loss /= len(test_x) # 전체 Test Loss\n",
    "    \n",
    "    # pytorch를 이용하여 최대값을 갖는 index를 찾기 위해\n",
    "    # y_hat 리스트를 concatenate하여 tensor로 변환\n",
    "    y_hat = torch.cat(y_hat, dim=0)\n",
    "    \n",
    "    # 최종 예측값 추출\n",
    "    inference_result = torch.argmax(y_hat, dim=-1)\n",
    "    \n",
    "    # 정확도 계산\n",
    "    correct_count = (inference_result == y).sum()\n",
    "    accuracy = correct_count / len(y) * 100\n",
    "    \n",
    "    print('Test Accuracy: {0:2.2f}%'.format(accuracy))\n",
    "    print('Test Loss: {0:2.8f}'.format(test_loss))\n",
    "    \n",
    "    return inference_result"
   ]
  },
  {
   "cell_type": "code",
   "execution_count": 100,
   "metadata": {},
   "outputs": [
    {
     "name": "stdout",
     "output_type": "stream",
     "text": [
      "Test Accuracy: 97.80%\n",
      "Test Loss: 0.08612475\n"
     ]
    },
    {
     "data": {
      "text/html": [
       "<div>\n",
       "<style scoped>\n",
       "    .dataframe tbody tr th:only-of-type {\n",
       "        vertical-align: middle;\n",
       "    }\n",
       "\n",
       "    .dataframe tbody tr th {\n",
       "        vertical-align: top;\n",
       "    }\n",
       "\n",
       "    .dataframe thead th {\n",
       "        text-align: right;\n",
       "    }\n",
       "</style>\n",
       "<table border=\"1\" class=\"dataframe\">\n",
       "  <thead>\n",
       "    <tr style=\"text-align: right;\">\n",
       "      <th></th>\n",
       "      <th>pred_0</th>\n",
       "      <th>pred_1</th>\n",
       "      <th>pred_2</th>\n",
       "      <th>pred_3</th>\n",
       "      <th>pred_4</th>\n",
       "      <th>pred_5</th>\n",
       "      <th>pred_6</th>\n",
       "      <th>pred_7</th>\n",
       "      <th>pred_8</th>\n",
       "      <th>pred_9</th>\n",
       "    </tr>\n",
       "  </thead>\n",
       "  <tbody>\n",
       "    <tr>\n",
       "      <th>true_0</th>\n",
       "      <td>967</td>\n",
       "      <td>1</td>\n",
       "      <td>1</td>\n",
       "      <td>0</td>\n",
       "      <td>0</td>\n",
       "      <td>1</td>\n",
       "      <td>7</td>\n",
       "      <td>1</td>\n",
       "      <td>2</td>\n",
       "      <td>0</td>\n",
       "    </tr>\n",
       "    <tr>\n",
       "      <th>true_1</th>\n",
       "      <td>0</td>\n",
       "      <td>1126</td>\n",
       "      <td>5</td>\n",
       "      <td>0</td>\n",
       "      <td>0</td>\n",
       "      <td>0</td>\n",
       "      <td>0</td>\n",
       "      <td>1</td>\n",
       "      <td>3</td>\n",
       "      <td>0</td>\n",
       "    </tr>\n",
       "    <tr>\n",
       "      <th>true_2</th>\n",
       "      <td>3</td>\n",
       "      <td>0</td>\n",
       "      <td>1009</td>\n",
       "      <td>6</td>\n",
       "      <td>1</td>\n",
       "      <td>1</td>\n",
       "      <td>0</td>\n",
       "      <td>6</td>\n",
       "      <td>6</td>\n",
       "      <td>0</td>\n",
       "    </tr>\n",
       "    <tr>\n",
       "      <th>true_3</th>\n",
       "      <td>0</td>\n",
       "      <td>0</td>\n",
       "      <td>4</td>\n",
       "      <td>972</td>\n",
       "      <td>0</td>\n",
       "      <td>14</td>\n",
       "      <td>0</td>\n",
       "      <td>6</td>\n",
       "      <td>5</td>\n",
       "      <td>9</td>\n",
       "    </tr>\n",
       "    <tr>\n",
       "      <th>true_4</th>\n",
       "      <td>0</td>\n",
       "      <td>0</td>\n",
       "      <td>5</td>\n",
       "      <td>0</td>\n",
       "      <td>961</td>\n",
       "      <td>0</td>\n",
       "      <td>6</td>\n",
       "      <td>1</td>\n",
       "      <td>0</td>\n",
       "      <td>9</td>\n",
       "    </tr>\n",
       "    <tr>\n",
       "      <th>true_5</th>\n",
       "      <td>2</td>\n",
       "      <td>0</td>\n",
       "      <td>0</td>\n",
       "      <td>4</td>\n",
       "      <td>3</td>\n",
       "      <td>875</td>\n",
       "      <td>2</td>\n",
       "      <td>0</td>\n",
       "      <td>4</td>\n",
       "      <td>2</td>\n",
       "    </tr>\n",
       "    <tr>\n",
       "      <th>true_6</th>\n",
       "      <td>1</td>\n",
       "      <td>3</td>\n",
       "      <td>1</td>\n",
       "      <td>1</td>\n",
       "      <td>4</td>\n",
       "      <td>5</td>\n",
       "      <td>940</td>\n",
       "      <td>0</td>\n",
       "      <td>3</td>\n",
       "      <td>0</td>\n",
       "    </tr>\n",
       "    <tr>\n",
       "      <th>true_7</th>\n",
       "      <td>1</td>\n",
       "      <td>1</td>\n",
       "      <td>10</td>\n",
       "      <td>1</td>\n",
       "      <td>2</td>\n",
       "      <td>0</td>\n",
       "      <td>1</td>\n",
       "      <td>1000</td>\n",
       "      <td>2</td>\n",
       "      <td>10</td>\n",
       "    </tr>\n",
       "    <tr>\n",
       "      <th>true_8</th>\n",
       "      <td>3</td>\n",
       "      <td>1</td>\n",
       "      <td>4</td>\n",
       "      <td>4</td>\n",
       "      <td>4</td>\n",
       "      <td>4</td>\n",
       "      <td>0</td>\n",
       "      <td>3</td>\n",
       "      <td>947</td>\n",
       "      <td>4</td>\n",
       "    </tr>\n",
       "    <tr>\n",
       "      <th>true_9</th>\n",
       "      <td>0</td>\n",
       "      <td>2</td>\n",
       "      <td>0</td>\n",
       "      <td>0</td>\n",
       "      <td>14</td>\n",
       "      <td>5</td>\n",
       "      <td>0</td>\n",
       "      <td>3</td>\n",
       "      <td>2</td>\n",
       "      <td>983</td>\n",
       "    </tr>\n",
       "  </tbody>\n",
       "</table>\n",
       "</div>"
      ],
      "text/plain": [
       "        pred_0  pred_1  pred_2  pred_3  pred_4  pred_5  pred_6  pred_7  \\\n",
       "true_0     967       1       1       0       0       1       7       1   \n",
       "true_1       0    1126       5       0       0       0       0       1   \n",
       "true_2       3       0    1009       6       1       1       0       6   \n",
       "true_3       0       0       4     972       0      14       0       6   \n",
       "true_4       0       0       5       0     961       0       6       1   \n",
       "true_5       2       0       0       4       3     875       2       0   \n",
       "true_6       1       3       1       1       4       5     940       0   \n",
       "true_7       1       1      10       1       2       0       1    1000   \n",
       "true_8       3       1       4       4       4       4       0       3   \n",
       "true_9       0       2       0       0      14       5       0       3   \n",
       "\n",
       "        pred_8  pred_9  \n",
       "true_0       2       0  \n",
       "true_1       3       0  \n",
       "true_2       6       0  \n",
       "true_3       5       9  \n",
       "true_4       0       9  \n",
       "true_5       4       2  \n",
       "true_6       3       0  \n",
       "true_7       2      10  \n",
       "true_8     947       4  \n",
       "true_9       2     983  "
      ]
     },
     "execution_count": 100,
     "metadata": {},
     "output_type": "execute_result"
    }
   ],
   "source": [
    "result = inference_testset(model, x[-1], y[-1], nn.NLLLoss())\n",
    "\n",
    "# Confusion Matrix를 이용한 시각화\n",
    "df_confusion_matrix = pd.DataFrame(\n",
    "    confusion_matrix(y[-1], result),\n",
    "    index=['true_%d' % i for i in range(10)],\n",
    "    columns=['pred_%d' % i for i in range(10)]\n",
    ")\n",
    "#print(df_confusion_matrix) # Jupyter Notebook 이외 도구를 사용할 경우 활성화\n",
    "df_confusion_matrix # Jupyter Notebook에서 결과 확인 시"
   ]
  },
  {
   "cell_type": "code",
   "execution_count": 101,
   "metadata": {},
   "outputs": [
    {
     "name": "stdout",
     "output_type": "stream",
     "text": [
      "        pred_0  pred_1  pred_2  pred_3  pred_4  pred_5  pred_6  pred_7  \\\n",
      "true_0     967       1       1       0       0       1       7       1   \n",
      "true_1       0    1126       5       0       0       0       0       1   \n",
      "true_2       3       0    1009       6       1       1       0       6   \n",
      "true_3       0       0       4     972       0      14       0       6   \n",
      "true_4       0       0       5       0     961       0       6       1   \n",
      "true_5       2       0       0       4       3     875       2       0   \n",
      "true_6       1       3       1       1       4       5     940       0   \n",
      "true_7       1       1      10       1       2       0       1    1000   \n",
      "true_8       3       1       4       4       4       4       0       3   \n",
      "true_9       0       2       0       0      14       5       0       3   \n",
      "\n",
      "        pred_8  pred_9  \n",
      "true_0       2       0  \n",
      "true_1       3       0  \n",
      "true_2       6       0  \n",
      "true_3       5       9  \n",
      "true_4       0       9  \n",
      "true_5       4       2  \n",
      "true_6       3       0  \n",
      "true_7       2      10  \n",
      "true_8     947       4  \n",
      "true_9       2     983  \n"
     ]
    }
   ],
   "source": [
    "print(df_confusion_matrix)"
   ]
  },
  {
   "cell_type": "markdown",
   "metadata": {},
   "source": [
    "### 8.2. 1개 손글씨 이미지를 입력했을 경우 추론하는 함수"
   ]
  },
  {
   "cell_type": "code",
   "execution_count": 42,
   "metadata": {},
   "outputs": [],
   "source": [
    "def inference(model, img):\n",
    "    # 입력 이미지 출력\n",
    "    print('입력 이미지')\n",
    "    show_img(img)\n",
    "    \n",
    "    with torch.no_grad():\n",
    "        y_hat = model(img)\n",
    "    \n",
    "    inference_result = torch.argmax(y_hat, dim=-1)\n",
    "    \n",
    "    print(f'예측 결과: {inference_result}')"
   ]
  },
  {
   "cell_type": "code",
   "execution_count": 43,
   "metadata": {},
   "outputs": [
    {
     "name": "stdout",
     "output_type": "stream",
     "text": [
      "입력 이미지\n"
     ]
    },
    {
     "data": {
      "image/png": "[encoded data removed]",
      "text/plain": [
       "<Figure size 432x288 with 1 Axes>"
      ]
     },
     "metadata": {
      "needs_background": "light"
     },
     "output_type": "display_data"
    },
    {
     "name": "stdout",
     "output_type": "stream",
     "text": [
      "예측 결과: 7\n"
     ]
    }
   ],
   "source": [
    "# Test 데이터셋의 첫번째 이미지 예측 결과\n",
    "inference(model, x[-1][0])"
   ]
  },
  {
   "cell_type": "code",
   "execution_count": 44,
   "metadata": {},
   "outputs": [
    {
     "name": "stdout",
     "output_type": "stream",
     "text": [
      "입력 이미지\n"
     ]
    },
    {
     "data": {
      "image/png": "[encoded data removed]",
      "text/plain": [
       "<Figure size 432x288 with 1 Axes>"
      ]
     },
     "metadata": {
      "needs_background": "light"
     },
     "output_type": "display_data"
    },
    {
     "name": "stdout",
     "output_type": "stream",
     "text": [
      "예측 결과: 4\n"
     ]
    }
   ],
   "source": [
    "# Test 데이터셋의 5번째 이미지 예측 결과\n",
    "inference(model, x[-1][4])"
   ]
  }
 ],
 "metadata": {
  "kernelspec": {
   "display_name": "Python 3",
   "language": "python",
   "name": "python3"
  },
  "language_info": {
   "codemirror_mode": {
    "name": "ipython",
    "version": 3
   },
   "file_extension": ".py",
   "mimetype": "text/x-python",
   "name": "python",
   "nbconvert_exporter": "python",
   "pygments_lexer": "ipython3",
   "version": "3.8.5"
  }
 },
 "nbformat": 4,
 "nbformat_minor": 4
}
